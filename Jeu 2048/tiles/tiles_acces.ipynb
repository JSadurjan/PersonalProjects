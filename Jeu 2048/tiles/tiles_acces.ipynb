{
 "cells": [
  {
   "cell_type": "code",
   "execution_count": 32,
   "metadata": {},
   "outputs": [],
   "source": [
    "import sys\n",
    "sys.path.append(\"../game\")\n",
    "sys.path.append(\"../ui\")\n",
    "sys.path.append(\"..life-cycle\")\n",
    "from play import *\n",
    "from tiles_moves import *\n",
    "from random import *"
   ]
  },
  {
   "cell_type": "code",
   "execution_count": 5,
   "metadata": {},
   "outputs": [],
   "source": [
    "def check_indice(plateau,indice):\n",
    "    \"\"\"Retounrne True si indice correspond à un indice valide de case pour le plateau (entre 0 et n-1)\"\"\"\n",
    "    if indice<0 or indice >plateau['n']-1:\n",
    "        return False\n",
    "    return True"
   ]
  },
  {
   "cell_type": "code",
   "execution_count": 6,
   "metadata": {},
   "outputs": [
    {
     "name": "stdout",
     "output_type": "stream",
     "text": [
      "test de la fonction check_indice : ok\n"
     ]
    }
   ],
   "source": [
    "def test_check_indice():\n",
    "    \"\"\"Vérifie si la fonction check_indice est valide\"\"\"\n",
    "    p=init_play()\n",
    "    \n",
    "    assert check_indice(p,0)\n",
    "    assert check_indice(p,3)\n",
    "    assert not check_indice(p,10)\n",
    "    assert not check_indice(p,-1)\n",
    "    assert not check_indice(p,4)\n",
    "    \n",
    "    print('test de la fonction check_indice : ok')\n",
    "    \n",
    "test_check_indice()"
   ]
  },
  {
   "cell_type": "code",
   "execution_count": 7,
   "metadata": {},
   "outputs": [],
   "source": [
    "def check_room(plateau,lig,col):\n",
    "    \"\"\"Retourne True si (lig,col) correspondent à une case du plateau, retourne False sinon\"\"\"\n",
    "    if not check_indice(plateau,lig) or not check_indice(plateau,col):\n",
    "        return False\n",
    "    return True"
   ]
  },
  {
   "cell_type": "code",
   "execution_count": 8,
   "metadata": {},
   "outputs": [
    {
     "name": "stdout",
     "output_type": "stream",
     "text": [
      "test de la fonction check_room : ok\n"
     ]
    }
   ],
   "source": [
    "def test_check_room():\n",
    "    \"\"\"Vérifie si la fonction check_room est valide\"\"\"\n",
    "    p=init_play()\n",
    "    \n",
    "    assert check_room(p,2,1)\n",
    "    assert check_room(p,3,3)\n",
    "    assert not check_room(p,10,2)\n",
    "    assert not check_room(p,-1,3)\n",
    "    \n",
    "    print('test de la fonction check_room : ok')\n",
    "    \n",
    "test_check_room()"
   ]
  },
  {
   "cell_type": "code",
   "execution_count": 7,
   "metadata": {},
   "outputs": [],
   "source": [
    "def get_value(plateau,lig,col):\n",
    "    \"\"\"Retourne la valeur de la case (lig,col)\"\"\"\n",
    "    \n",
    "    indice=lig*4+col\n",
    "    \n",
    "    return plateau['tiles'][indice]"
   ]
  },
  {
   "cell_type": "code",
   "execution_count": 8,
   "metadata": {},
   "outputs": [
    {
     "name": "stdout",
     "output_type": "stream",
     "text": [
      "test de la fonction get_value : ok\n"
     ]
    }
   ],
   "source": [
    "def test_get_value():\n",
    "    \"\"\"Vérifie si la fonction get_value est valide\"\"\"\n",
    "    \n",
    "    plateau={'n':4,\n",
    "            'nombre_cases_libres' : 6,\n",
    "            'tiles':[6,2,3,2,0,2,6,2,0,2,2,0,1,0,0,0]}\n",
    "    p=plateau\n",
    "    assert get_value(p,0,0)==6\n",
    "    assert get_value(p,2,3)==0\n",
    "    assert get_value(p,1,3)==2\n",
    "    \n",
    "    print('test de la fonction get_value : ok')\n",
    "test_get_value()"
   ]
  },
  {
   "cell_type": "code",
   "execution_count": 9,
   "metadata": {},
   "outputs": [],
   "source": [
    "def set_value(plateau,lig,col,val):\n",
    "    \"\"\"Affecte la valeur dans la case (lig,col) et return False si la case est invalide\"\"\"\n",
    "    \n",
    "    \n",
    "    indice=lig*4+col\n",
    "    \n",
    "    plateau['tiles'][indice]=val\n",
    "\n",
    "    "
   ]
  },
  {
   "cell_type": "code",
   "execution_count": 10,
   "metadata": {},
   "outputs": [
    {
     "ename": "IndexError",
     "evalue": "list assignment index out of range",
     "output_type": "error",
     "traceback": [
      "\u001b[1;31m---------------------------------------------------------------------------\u001b[0m",
      "\u001b[1;31mIndexError\u001b[0m                                Traceback (most recent call last)",
      "\u001b[1;32m<ipython-input-10-1b7b306772a1>\u001b[0m in \u001b[0;36m<module>\u001b[1;34m\u001b[0m\n\u001b[0;32m     17\u001b[0m \u001b[1;33m\u001b[0m\u001b[0m\n\u001b[0;32m     18\u001b[0m \u001b[1;33m\u001b[0m\u001b[0m\n\u001b[1;32m---> 19\u001b[1;33m \u001b[0mtest_set_value\u001b[0m\u001b[1;33m(\u001b[0m\u001b[1;33m)\u001b[0m\u001b[1;33m\u001b[0m\u001b[1;33m\u001b[0m\u001b[0m\n\u001b[0m",
      "\u001b[1;32m<ipython-input-10-1b7b306772a1>\u001b[0m in \u001b[0;36mtest_set_value\u001b[1;34m()\u001b[0m\n\u001b[0;32m      9\u001b[0m     \u001b[1;32massert\u001b[0m \u001b[0mget_value\u001b[0m\u001b[1;33m(\u001b[0m\u001b[0mp\u001b[0m\u001b[1;33m,\u001b[0m\u001b[1;36m1\u001b[0m\u001b[1;33m,\u001b[0m\u001b[1;36m2\u001b[0m\u001b[1;33m)\u001b[0m\u001b[1;33m==\u001b[0m\u001b[1;36m0\u001b[0m\u001b[1;33m\u001b[0m\u001b[1;33m\u001b[0m\u001b[0m\n\u001b[0;32m     10\u001b[0m     \u001b[1;32massert\u001b[0m \u001b[0mget_value\u001b[0m\u001b[1;33m(\u001b[0m\u001b[0mp\u001b[0m\u001b[1;33m,\u001b[0m\u001b[1;36m2\u001b[0m\u001b[1;33m,\u001b[0m\u001b[1;36m3\u001b[0m\u001b[1;33m)\u001b[0m\u001b[1;33m==\u001b[0m\u001b[1;36m6\u001b[0m\u001b[1;33m\u001b[0m\u001b[1;33m\u001b[0m\u001b[0m\n\u001b[1;32m---> 11\u001b[1;33m     \u001b[1;32massert\u001b[0m \u001b[0mset_value\u001b[0m\u001b[1;33m(\u001b[0m\u001b[0mp\u001b[0m\u001b[1;33m,\u001b[0m\u001b[1;36m18\u001b[0m\u001b[1;33m,\u001b[0m\u001b[1;36m2\u001b[0m\u001b[1;33m,\u001b[0m\u001b[1;36m6\u001b[0m\u001b[1;33m)\u001b[0m\u001b[1;33m\u001b[0m\u001b[1;33m\u001b[0m\u001b[0m\n\u001b[0m\u001b[0;32m     12\u001b[0m \u001b[1;33m\u001b[0m\u001b[0m\n\u001b[0;32m     13\u001b[0m \u001b[1;33m\u001b[0m\u001b[0m\n",
      "\u001b[1;32m<ipython-input-9-3edab76f8f98>\u001b[0m in \u001b[0;36mset_value\u001b[1;34m(plateau, lig, col, val)\u001b[0m\n\u001b[0;32m      5\u001b[0m     \u001b[0mindice\u001b[0m\u001b[1;33m=\u001b[0m\u001b[0mlig\u001b[0m\u001b[1;33m*\u001b[0m\u001b[1;36m4\u001b[0m\u001b[1;33m+\u001b[0m\u001b[0mcol\u001b[0m\u001b[1;33m\u001b[0m\u001b[1;33m\u001b[0m\u001b[0m\n\u001b[0;32m      6\u001b[0m \u001b[1;33m\u001b[0m\u001b[0m\n\u001b[1;32m----> 7\u001b[1;33m     \u001b[0mplateau\u001b[0m\u001b[1;33m[\u001b[0m\u001b[1;34m'tiles'\u001b[0m\u001b[1;33m]\u001b[0m\u001b[1;33m[\u001b[0m\u001b[0mindice\u001b[0m\u001b[1;33m]\u001b[0m\u001b[1;33m=\u001b[0m\u001b[0mval\u001b[0m\u001b[1;33m\u001b[0m\u001b[1;33m\u001b[0m\u001b[0m\n\u001b[0m\u001b[0;32m      8\u001b[0m \u001b[1;33m\u001b[0m\u001b[0m\n\u001b[0;32m      9\u001b[0m \u001b[1;33m\u001b[0m\u001b[0m\n",
      "\u001b[1;31mIndexError\u001b[0m: list assignment index out of range"
     ]
    }
   ],
   "source": [
    "def test_set_value():\n",
    "    p=init_play()\n",
    "    \n",
    "    set_value(p,0,0,1)\n",
    "    set_value(p,1,2,0)\n",
    "    set_value(p,2,3,6)\n",
    "    \n",
    "    assert get_value(p,0,0)==1\n",
    "    assert get_value(p,1,2)==0\n",
    "    assert get_value(p,2,3)==6\n",
    "    assert set_value(p,18,2,6)\n",
    "    \n",
    "    \n",
    "    \n",
    "    print('test de la fonction set_value : ok')\n",
    "    \n",
    "    \n",
    "    \n",
    "test_set_value()"
   ]
  },
  {
   "cell_type": "code",
   "execution_count": 11,
   "metadata": {},
   "outputs": [],
   "source": [
    "def is_room_empty(plateau,lig,col):\n",
    "    \"\"\"Test si une case du plateau est libre ou pas, return True si la case est libre, False sinon\"\"\"\n",
    "    \n",
    "    indice=lig*4+col\n",
    "    \n",
    "    if plateau['tiles'][indice]==0:\n",
    "        return True\n",
    "    else:\n",
    "        return False\n",
    "    "
   ]
  },
  {
   "cell_type": "code",
   "execution_count": 69,
   "metadata": {},
   "outputs": [
    {
     "ename": "IndexError",
     "evalue": "list index out of range",
     "output_type": "error",
     "traceback": [
      "\u001b[1;31m---------------------------------------------------------------------------\u001b[0m",
      "\u001b[1;31mIndexError\u001b[0m                                Traceback (most recent call last)",
      "\u001b[1;32m<ipython-input-69-376910a34878>\u001b[0m in \u001b[0;36m<module>\u001b[1;34m\u001b[0m\n\u001b[0;32m     10\u001b[0m     \u001b[0mprint\u001b[0m\u001b[1;33m(\u001b[0m\u001b[1;34m'Test de la foncion is_room_empty : ok'\u001b[0m\u001b[1;33m)\u001b[0m\u001b[1;33m\u001b[0m\u001b[1;33m\u001b[0m\u001b[0m\n\u001b[0;32m     11\u001b[0m \u001b[1;33m\u001b[0m\u001b[0m\n\u001b[1;32m---> 12\u001b[1;33m \u001b[0mtest_is_room_empty\u001b[0m\u001b[1;33m(\u001b[0m\u001b[1;33m)\u001b[0m\u001b[1;33m\u001b[0m\u001b[1;33m\u001b[0m\u001b[0m\n\u001b[0m",
      "\u001b[1;32m<ipython-input-69-376910a34878>\u001b[0m in \u001b[0;36mtest_is_room_empty\u001b[1;34m()\u001b[0m\n\u001b[0;32m      6\u001b[0m     \u001b[1;32massert\u001b[0m \u001b[1;32mnot\u001b[0m \u001b[0mis_room_empty\u001b[0m\u001b[1;33m(\u001b[0m\u001b[0mp\u001b[0m\u001b[1;33m,\u001b[0m\u001b[1;36m0\u001b[0m\u001b[1;33m,\u001b[0m\u001b[1;36m1\u001b[0m\u001b[1;33m)\u001b[0m\u001b[1;33m\u001b[0m\u001b[1;33m\u001b[0m\u001b[0m\n\u001b[0;32m      7\u001b[0m     \u001b[1;32massert\u001b[0m \u001b[0mis_room_empty\u001b[0m\u001b[1;33m(\u001b[0m\u001b[0mp\u001b[0m\u001b[1;33m,\u001b[0m\u001b[1;36m3\u001b[0m\u001b[1;33m,\u001b[0m\u001b[1;36m2\u001b[0m\u001b[1;33m)\u001b[0m\u001b[1;33m\u001b[0m\u001b[1;33m\u001b[0m\u001b[0m\n\u001b[1;32m----> 8\u001b[1;33m     \u001b[1;32massert\u001b[0m \u001b[0mis_room_empty\u001b[0m\u001b[1;33m(\u001b[0m\u001b[0mp\u001b[0m\u001b[1;33m,\u001b[0m\u001b[1;36m15\u001b[0m\u001b[1;33m,\u001b[0m\u001b[1;36m2\u001b[0m\u001b[1;33m)\u001b[0m\u001b[1;33m\u001b[0m\u001b[1;33m\u001b[0m\u001b[0m\n\u001b[0m\u001b[0;32m      9\u001b[0m \u001b[1;33m\u001b[0m\u001b[0m\n\u001b[0;32m     10\u001b[0m     \u001b[0mprint\u001b[0m\u001b[1;33m(\u001b[0m\u001b[1;34m'Test de la foncion is_room_empty : ok'\u001b[0m\u001b[1;33m)\u001b[0m\u001b[1;33m\u001b[0m\u001b[1;33m\u001b[0m\u001b[0m\n",
      "\u001b[1;32m~\\OneDrive\\Documents\\IUT Informatique\\Projet tutoré\\jeu_threes\\tiles\\tiles_acces.py\u001b[0m in \u001b[0;36mis_room_empty\u001b[1;34m(plateau, lig, col)\u001b[0m\n\u001b[0;32m    123\u001b[0m \u001b[1;33m\u001b[0m\u001b[0m\n\u001b[0;32m    124\u001b[0m     \u001b[0mindice\u001b[0m\u001b[1;33m=\u001b[0m\u001b[0mlig\u001b[0m\u001b[1;33m*\u001b[0m\u001b[1;36m4\u001b[0m\u001b[1;33m+\u001b[0m\u001b[0mcol\u001b[0m\u001b[1;33m\u001b[0m\u001b[1;33m\u001b[0m\u001b[0m\n\u001b[1;32m--> 125\u001b[1;33m \u001b[1;33m\u001b[0m\u001b[0m\n\u001b[0m\u001b[0;32m    126\u001b[0m     \u001b[1;32mif\u001b[0m \u001b[0mplateau\u001b[0m\u001b[1;33m[\u001b[0m\u001b[1;34m'tiles'\u001b[0m\u001b[1;33m]\u001b[0m\u001b[1;33m[\u001b[0m\u001b[0mindice\u001b[0m\u001b[1;33m]\u001b[0m\u001b[1;33m==\u001b[0m\u001b[1;36m0\u001b[0m\u001b[1;33m:\u001b[0m\u001b[1;33m\u001b[0m\u001b[1;33m\u001b[0m\u001b[0m\n\u001b[0;32m    127\u001b[0m         \u001b[1;32mreturn\u001b[0m \u001b[1;32mTrue\u001b[0m\u001b[1;33m\u001b[0m\u001b[1;33m\u001b[0m\u001b[0m\n",
      "\u001b[1;31mIndexError\u001b[0m: list index out of range"
     ]
    }
   ],
   "source": [
    "def test_is_room_empty():\n",
    "    p=init_play()\n",
    "    set_value(p,0,1,2)\n",
    "    set_value(p,1,1,1)\n",
    "    \n",
    "    assert not is_room_empty(p,0,1)\n",
    "    assert is_room_empty(p,3,2)\n",
    "    assert is_room_empty(p,15,2)\n",
    "    \n",
    "    print('Test de la foncion is_room_empty : ok')\n",
    "    \n",
    "test_is_room_empty()"
   ]
  }
 ],
 "metadata": {
  "kernelspec": {
   "display_name": "Python 3",
   "language": "python",
   "name": "python3"
  },
  "language_info": {
   "codemirror_mode": {
    "name": "ipython",
    "version": 3
   },
   "file_extension": ".py",
   "mimetype": "text/x-python",
   "name": "python",
   "nbconvert_exporter": "python",
   "pygments_lexer": "ipython3",
   "version": "3.7.4"
  }
 },
 "nbformat": 4,
 "nbformat_minor": 2
}
