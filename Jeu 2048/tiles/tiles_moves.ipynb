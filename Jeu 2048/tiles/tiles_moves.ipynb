{
 "cells": [
  {
   "cell_type": "code",
   "execution_count": 1,
   "metadata": {},
   "outputs": [
    {
     "name": "stdout",
     "output_type": "stream",
     "text": [
      "test de la fonction get_value : ok\n",
      "test de la fonction init_play : ok\n",
      "Test del a fonction is_game_over : ok\n"
     ]
    }
   ],
   "source": [
    "import sys\n",
    "sys.path.append(\"../game\")\n",
    "sys.path.append(\"../ui\")\n",
    "sys.path.append(\"../life_cycle\")\n",
    "from play import *\n",
    "from tiles_acces import *\n",
    "from random import *\n",
    "from playcycle import *\n",
    "from play_display import *"
   ]
  },
  {
   "cell_type": "code",
   "execution_count": 2,
   "metadata": {},
   "outputs": [],
   "source": [
    "def get_empty_room(plateau):\n",
    "    \"\"\"Mets à jour le dicionnaire avec le nombre de case libres du plateay et renvoie le nombre de case libre\"\"\"\n",
    "    \n",
    "    compteur=0\n",
    "    i=0\n",
    "    while i<len(plateau['tiles']):\n",
    "        if plateau['tiles'][i]==0:\n",
    "            compteur+=1\n",
    "        i+=1\n",
    "    \n",
    "    plateau['nb_cases_libre']=compteur\n",
    "    \n",
    "    return compteur"
   ]
  },
  {
   "cell_type": "code",
   "execution_count": 3,
   "metadata": {},
   "outputs": [
    {
     "name": "stdout",
     "output_type": "stream",
     "text": [
      "Test de la fonction get_empty_room : ok\n"
     ]
    }
   ],
   "source": [
    "def test_get_empty_room():\n",
    "    \"\"\"Vérifie si la fonction get_empty_room est valide\"\"\"\n",
    "    p=init_play()\n",
    "    \n",
    "    assert get_empty_room(p)==16\n",
    "    set_value(p,2,3,4)\n",
    "    assert get_empty_room(p)==15\n",
    "    set_value(p,1,2,3)\n",
    "    set_value(p,3,3,1)\n",
    "    assert get_empty_room(p)==13\n",
    "    set_value(p,2,3,0)\n",
    "    assert get_empty_room(p)==14\n",
    "    \n",
    "    print('Test de la fonction get_empty_room : ok')\n",
    "    \n",
    "test_get_empty_room()"
   ]
  },
  {
   "cell_type": "code",
   "execution_count": 4,
   "metadata": {},
   "outputs": [
    {
     "name": "stdout",
     "output_type": "stream",
     "text": [
      "{'mode': 'init', 't1': {'val': 1, 'lig': 0, 'col': 2}, 't2': {'val': 2, 'lig': 3, 'col': 2}, 'check': True}\n"
     ]
    }
   ],
   "source": [
    "def get_next_alea_tiles(plateau,mode):\n",
    "    \"\"\"Retourne une ou deux tuiles dont la position (lig,col) est tirée aléatoirement et \n",
    "    correspond à un emplacement libre du plateau\"\"\"\n",
    "    dico={}\n",
    "    tuile1={}\n",
    "    tuile2={}\n",
    "    \n",
    "    if mode=='init':\n",
    "        \n",
    "        dico['mode']=mode\n",
    "        indice1=randint(0,15)\n",
    "        \n",
    "        \n",
    "        \n",
    "        indice2=indice1              # il faut s'assurer que les tuiles soit différentes\n",
    "        while indice2==indice1:\n",
    "            indice2=randint(0,15) \n",
    "            \n",
    "            \n",
    "        tuile1['val']=1\n",
    "        tuile1['lig']=int(indice1/4)            # on récupère l'indice sous forme de ligne et colonne\n",
    "        tuile1['col']=indice1-4*int(indice1/4) \n",
    "       \n",
    "        tuile2['val']=2\n",
    "        tuile2['lig']=int(indice2/4)\n",
    "        tuile2['col']=indice2-4*int(indice2/4)\n",
    "        \n",
    "        dico['t1']=tuile1\n",
    "        dico['t2']=tuile2\n",
    "    \n",
    "    if mode=='encours':\n",
    "        dico['mode']=mode\n",
    "        indice1=-1\n",
    "        test=False\n",
    "        i=0\n",
    "        while not test and i<16:\n",
    "            indice1=randint(0,15)\n",
    "            test=is_room_empty(plateau,int(indice1/4),indice1-4*int(indice1/4))\n",
    "            i+=1\n",
    "        tuile1['val']=randint(1,3)\n",
    "        tuile1['lig']=int(indice1/4)            \n",
    "        tuile1['col']=indice1-4*int(indice1/4)\n",
    "        dico['t1']=tuile1\n",
    "        \n",
    "    if is_game_over(plateau):\n",
    "        dico['check']=False\n",
    "    else:\n",
    "        dico['check']=True\n",
    "    \n",
    "    return dico\n",
    "p=init_play()\n",
    "test=get_next_alea_tiles(p,'init')\n",
    "print(test)"
   ]
  },
  {
   "cell_type": "code",
   "execution_count": 5,
   "metadata": {},
   "outputs": [
    {
     "name": "stdout",
     "output_type": "stream",
     "text": [
      "*********************************\n",
      "*       *       *       *       *\n",
      "*   0   *   0   *   0   *   2   *\n",
      "*       *       *       *       *\n",
      "*********************************\n",
      "*       *       *       *       *\n",
      "*   0   *   3   *   2   *   1   *\n",
      "*       *       *       *       *\n",
      "*********************************\n",
      "*       *       *       *       *\n",
      "*   3   *   0   *   1   *   0   *\n",
      "*       *       *       *       *\n",
      "*********************************\n",
      "*       *       *       *       *\n",
      "*   0   *   0   *   0   *   0   *\n",
      "*       *       *       *       *\n",
      "*********************************\n",
      "{'mode': 'encours', 't1': {'val': 1, 'lig': 3, 'col': 3}, 'check': True}\n",
      "*********************************\n",
      "*       *       *       *       *\n",
      "*   0   *   0   *   0   *   2   *\n",
      "*       *       *       *       *\n",
      "*********************************\n",
      "*       *       *       *       *\n",
      "*   0   *   3   *   2   *   1   *\n",
      "*       *       *       *       *\n",
      "*********************************\n",
      "*       *       *       *       *\n",
      "*   3   *   0   *   1   *   0   *\n",
      "*       *       *       *       *\n",
      "*********************************\n",
      "*       *       *       *       *\n",
      "*   0   *   0   *   0   *   0   *\n",
      "*       *       *       *       *\n",
      "*********************************\n"
     ]
    }
   ],
   "source": [
    "p1=init_play()\n",
    "set_value(p1,1,1,3)\n",
    "set_value(p1,1,2,2)\n",
    "set_value(p1,0,3,2)\n",
    "set_value(p1,2,0,3)\n",
    "set_value(p1,2,2,1)\n",
    "set_value(p1,1,3,1)\n",
    "\n",
    "medium_display(p1)\n",
    "test=get_next_alea_tiles(p1,'encours')\n",
    "print(test)\n",
    "medium_display(p1)"
   ]
  },
  {
   "cell_type": "code",
   "execution_count": 6,
   "metadata": {},
   "outputs": [],
   "source": [
    "def put_next_tiles(plateau,tiles):\n",
    "    if tiles['mode']=='init':\n",
    "        set_value(plateau,tiles['t1']['lig'],tiles['t1']['col'],tiles['t1']['val'])\n",
    "        set_value(plateau,tiles['t2']['lig'],tiles['t2']['col'],tiles['t2']['val'])\n",
    "    else:\n",
    "        set_value(plateau,tiles['t1']['lig'],tiles['t1']['col'],tiles['t1']['val'])\n",
    "    "
   ]
  },
  {
   "cell_type": "code",
   "execution_count": 7,
   "metadata": {},
   "outputs": [
    {
     "name": "stdout",
     "output_type": "stream",
     "text": [
      "*********************************\n",
      "*       *       *       *       *\n",
      "*   0   *   0   *   2   *   1   *\n",
      "*       *       *       *       *\n",
      "*********************************\n",
      "*       *       *       *       *\n",
      "*   0   *   0   *   0   *   0   *\n",
      "*       *       *       *       *\n",
      "*********************************\n",
      "*       *       *       *       *\n",
      "*   0   *   0   *   0   *   0   *\n",
      "*       *       *       *       *\n",
      "*********************************\n",
      "*       *       *       *       *\n",
      "*   0   *   0   *   0   *   0   *\n",
      "*       *       *       *       *\n",
      "*********************************\n"
     ]
    }
   ],
   "source": [
    "p=init_play()\n",
    "\n",
    "tiles=get_next_alea_tiles(p,'init')\n",
    "put_next_tiles(p,tiles)\n",
    "\n",
    "medium_display(p)"
   ]
  },
  {
   "cell_type": "code",
   "execution_count": 8,
   "metadata": {},
   "outputs": [],
   "source": [
    "def line_pack(plateau,nligne,debut,sens):\n",
    "    \"\"\"Tasse les tuiles d'une ligne dans un sens donné\"\"\"\n",
    "    \n",
    "    i=debut\n",
    "    if sens:\n",
    "        while i<3:\n",
    "            set_value(plateau,nligne,i,plateau['tiles'][4*nligne+i+1])\n",
    "            i+=1\n",
    "        if debut!=3:\n",
    "            set_value(plateau,nligne,i,0)\n",
    "    else:\n",
    "        while i>0:\n",
    "            set_value(plateau,nligne,i,plateau['tiles'][4*nligne+i-1])\n",
    "            i-=1\n",
    "        if debut!=0:\n",
    "            set_value(plateau,nligne,i,0)       "
   ]
  },
  {
   "cell_type": "code",
   "execution_count": 8,
   "metadata": {},
   "outputs": [
    {
     "name": "stdout",
     "output_type": "stream",
     "text": [
      "\u001b[5m\u001b[7m\u001b[30m   0   \u001b[0m\u001b[5m\u001b[7m\u001b[30m   0   \u001b[0m\u001b[5m\u001b[7m\u001b[30m   0   \u001b[0m\u001b[5m\u001b[7m\u001b[34m   2   \u001b[0m\n",
      "\u001b[5m\u001b[7m\u001b[30m   0   \u001b[0m\u001b[5m\u001b[7m\u001b[32m   3   \u001b[0m\u001b[5m\u001b[7m\u001b[34m   2   \u001b[0m\u001b[5m\u001b[7m\u001b[36m   1   \u001b[0m\n",
      "\u001b[5m\u001b[7m\u001b[32m   3   \u001b[0m\u001b[5m\u001b[7m\u001b[30m   0   \u001b[0m\u001b[5m\u001b[7m\u001b[36m   1   \u001b[0m\u001b[5m\u001b[7m\u001b[30m   0   \u001b[0m\n",
      "\u001b[5m\u001b[7m\u001b[30m   0   \u001b[0m\u001b[5m\u001b[7m\u001b[30m   0   \u001b[0m\u001b[5m\u001b[7m\u001b[30m   0   \u001b[0m\u001b[5m\u001b[7m\u001b[30m   0   \u001b[0m\n",
      "\u001b[5m\u001b[7m\u001b[30m   0   \u001b[0m\u001b[5m\u001b[7m\u001b[30m   0   \u001b[0m\u001b[5m\u001b[7m\u001b[30m   0   \u001b[0m\u001b[5m\u001b[7m\u001b[34m   2   \u001b[0m\n",
      "\u001b[5m\u001b[7m\u001b[32m   3   \u001b[0m\u001b[5m\u001b[7m\u001b[34m   2   \u001b[0m\u001b[5m\u001b[7m\u001b[36m   1   \u001b[0m\u001b[5m\u001b[7m\u001b[30m   0   \u001b[0m\n",
      "\u001b[5m\u001b[7m\u001b[30m   0   \u001b[0m\u001b[5m\u001b[7m\u001b[32m   3   \u001b[0m\u001b[5m\u001b[7m\u001b[30m   0   \u001b[0m\u001b[5m\u001b[7m\u001b[36m   1   \u001b[0m\n",
      "\u001b[5m\u001b[7m\u001b[30m   0   \u001b[0m\u001b[5m\u001b[7m\u001b[30m   0   \u001b[0m\u001b[5m\u001b[7m\u001b[30m   0   \u001b[0m\u001b[5m\u001b[7m\u001b[30m   0   \u001b[0m\n"
     ]
    }
   ],
   "source": [
    "p=init_play()\n",
    "set_value(p,1,1,3)\n",
    "set_value(p,1,2,2)\n",
    "set_value(p,0,3,2)\n",
    "set_value(p,2,0,3)\n",
    "set_value(p,2,2,1)\n",
    "set_value(p,1,3,1)\n",
    "full_display(p)\n",
    "\n",
    "line_pack(p,1,0,1)\n",
    "\n",
    "line_pack(p,2,3,0)\n",
    "\n",
    "full_display(p)\n"
   ]
  },
  {
   "cell_type": "code",
   "execution_count": 10,
   "metadata": {},
   "outputs": [],
   "source": [
    "def colum_pack(plateau,ncol,debut,sens):\n",
    "    \"\"\"Tasse les tuiles d'une colonne donnée dans un sens donné\"\"\"\n",
    "    i=debut\n",
    "    if sens:\n",
    "        while i<3:\n",
    "            set_value(plateau,i,ncol,plateau['tiles'][(i+1)*4+ncol])\n",
    "            i+=1\n",
    "        if debut!=3:\n",
    "            set_value(plateau,i,ncol,0)\n",
    "            \n",
    "            \n",
    "    else:\n",
    "        while i>0:\n",
    "            \n",
    "            set_value(plateau,i,ncol,plateau['tiles'][(i-1)*4+ncol])\n",
    "            i-=1\n",
    "        if debut!=0:\n",
    "            set_value(plateau,i,ncol,0)"
   ]
  },
  {
   "cell_type": "code",
   "execution_count": 33,
   "metadata": {},
   "outputs": [
    {
     "name": "stdout",
     "output_type": "stream",
     "text": [
      "*********************************\n",
      "*       *       *       *       *\n",
      "*   0   *   0   *   0   *   2   *\n",
      "*       *       *       *       *\n",
      "*********************************\n",
      "*       *       *       *       *\n",
      "*   0   *   3   *   2   *   1   *\n",
      "*       *       *       *       *\n",
      "*********************************\n",
      "*       *       *       *       *\n",
      "*   3   *   2   *   1   *   3   *\n",
      "*       *       *       *       *\n",
      "*********************************\n",
      "*       *       *       *       *\n",
      "*   0   *   1   *   0   *   0   *\n",
      "*       *       *       *       *\n",
      "*********************************\n",
      "*********************************\n",
      "*       *       *       *       *\n",
      "*   0   *   0   *   0   *   2   *\n",
      "*       *       *       *       *\n",
      "*********************************\n",
      "*       *       *       *       *\n",
      "*   0   *   3   *   0   *   1   *\n",
      "*       *       *       *       *\n",
      "*********************************\n",
      "*       *       *       *       *\n",
      "*   3   *   2   *   2   *   3   *\n",
      "*       *       *       *       *\n",
      "*********************************\n",
      "*       *       *       *       *\n",
      "*   0   *   1   *   1   *   0   *\n",
      "*       *       *       *       *\n",
      "*********************************\n"
     ]
    }
   ],
   "source": [
    "p=init_play()\n",
    "set_value(p,1,1,3)\n",
    "set_value(p,1,2,2)\n",
    "set_value(p,0,3,2)\n",
    "set_value(p,2,0,3)\n",
    "set_value(p,2,2,1)\n",
    "set_value(p,1,3,1)\n",
    "set_value(p,2,1,2)\n",
    "set_value(p,3,1,1)\n",
    "set_value(p,2,3,3)\n",
    "medium_display(p)\n",
    "\n",
    "colum_pack(p,1,3,1)\n",
    "colum_pack(p,2,3,0)\n",
    "medium_display(p)\n"
   ]
  },
  {
   "cell_type": "code",
   "execution_count": 20,
   "metadata": {},
   "outputs": [],
   "source": [
    "def line_move(plateau,nligne,sens):\n",
    "    \"\"\"Déplacement des tuiles d'une ligne donnée dans un sens donné 1 pour gauche 0 pour droite\"\"\"\n",
    "    \n",
    "    if sens:\n",
    "        i=0\n",
    "        while i<3:\n",
    "            case1=plateau['tiles'][4*nligne+i]\n",
    "            case2=plateau['tiles'][4*nligne+i+1]\n",
    "            if (case1+case2)%3==0 and (case1==case2 or case1+case2==3): \n",
    "                plateau['tiles'][4*nligne+i+1]=case1+case2\n",
    "                line_pack(plateau,nligne,i,sens)\n",
    "                i=3\n",
    "            \n",
    "            i+=1\n",
    "                \n",
    "    else:\n",
    "        i=3\n",
    "        while i>0:\n",
    "            case1=plateau['tiles'][4*nligne+i]\n",
    "            case2=plateau['tiles'][4*nligne+i-1]\n",
    "            if (case1+case2)%3==0 and (case1==case2 or case1+case2==3): \n",
    "                plateau['tiles'][4*nligne+i-1]=case1+case2\n",
    "                line_pack(plateau,nligne,i,sens)\n",
    "                i=0\n",
    "            i-=1\n",
    "            \n",
    "    \n",
    "        \n",
    "                \n",
    "            "
   ]
  },
  {
   "cell_type": "code",
   "execution_count": 19,
   "metadata": {},
   "outputs": [],
   "source": [
    "p=init_play()\n",
    "set_value(p,1,1,3)\n",
    "set_value(p,1,2,2)\n",
    "set_value(p,0,3,2)\n",
    "set_value(p,2,0,3)\n",
    "set_value(p,2,2,1)\n",
    "set_value(p,1,3,1)\n",
    "set_value(p,2,1,2)\n",
    "set_value(p,3,1,1)\n",
    "set_value(p,2,3,3)"
   ]
  },
  {
   "cell_type": "code",
   "execution_count": 22,
   "metadata": {},
   "outputs": [
    {
     "name": "stdout",
     "output_type": "stream",
     "text": [
      "*********************************\n",
      "*       *       *       *       *\n",
      "*   0   *   0   *   0   *   2   *\n",
      "*       *       *       *       *\n",
      "*********************************\n",
      "*       *       *       *       *\n",
      "*   0   *   3   *   2   *   1   *\n",
      "*       *       *       *       *\n",
      "*********************************\n",
      "*       *       *       *       *\n",
      "*   3   *   3   *   3   *   0   *\n",
      "*       *       *       *       *\n",
      "*********************************\n",
      "*       *       *       *       *\n",
      "*   0   *   1   *   0   *   0   *\n",
      "*       *       *       *       *\n",
      "*********************************\n",
      "*********************************\n",
      "*       *       *       *       *\n",
      "*   0   *   0   *   0   *   2   *\n",
      "*       *       *       *       *\n",
      "*********************************\n",
      "*       *       *       *       *\n",
      "*   0   *   3   *   2   *   1   *\n",
      "*       *       *       *       *\n",
      "*********************************\n",
      "*       *       *       *       *\n",
      "*   6   *   3   *   0   *   0   *\n",
      "*       *       *       *       *\n",
      "*********************************\n",
      "*       *       *       *       *\n",
      "*   0   *   1   *   0   *   0   *\n",
      "*       *       *       *       *\n",
      "*********************************\n"
     ]
    }
   ],
   "source": [
    "\n",
    "medium_display(p)\n",
    "\n",
    "line_move(p,2,1)\n",
    "\n",
    "medium_display(p)"
   ]
  },
  {
   "cell_type": "code",
   "execution_count": 23,
   "metadata": {},
   "outputs": [],
   "source": [
    "def colum_move(plateau,ncol,sens):\n",
    "    \"\"\"Déplacement d'une colonne donnée dans un sens donné 1 pour haut 0 pour bas\"\"\"\n",
    " \n",
    "    if sens:\n",
    "        i=0\n",
    "        while i<3:\n",
    "            case1=plateau['tiles'][i*4+ncol]\n",
    "            case2=plateau['tiles'][4*(i+1)+ncol]\n",
    "            if (case1+case2)%3==0 and (case1==case2 or case1+case2==3): \n",
    "                plateau['tiles'][4*(i+1)+ncol]=case1+case2\n",
    "                colum_pack(plateau,ncol,i,sens)\n",
    "                i=3\n",
    "            \n",
    "            i+=1\n",
    "                \n",
    "    else:\n",
    "        i=3\n",
    "        while i>0:\n",
    "            case1=plateau['tiles'][i*4+ncol]\n",
    "            case2=plateau['tiles'][4*(i-1)+ncol]\n",
    "            if (case1+case2)%3==0 and (case1==case2 or case1+case2==3):\n",
    "                plateau['tiles'][4*(i-1)+ncol]=case1+case2\n",
    "                colum_pack(plateau,ncol,i,sens)\n",
    "                i=0\n",
    "            i-=1\n",
    "    "
   ]
  },
  {
   "cell_type": "code",
   "execution_count": 24,
   "metadata": {},
   "outputs": [],
   "source": [
    "p=init_play()\n",
    "set_value(p,1,1,3)\n",
    "set_value(p,1,2,2)\n",
    "set_value(p,0,3,2)\n",
    "set_value(p,2,0,3)\n",
    "set_value(p,2,2,1)\n",
    "set_value(p,1,3,1)\n",
    "set_value(p,2,1,2)\n",
    "set_value(p,3,1,1)\n",
    "set_value(p,2,3,3)"
   ]
  },
  {
   "cell_type": "code",
   "execution_count": 32,
   "metadata": {},
   "outputs": [
    {
     "name": "stdout",
     "output_type": "stream",
     "text": [
      "*********************************\n",
      "*       *       *       *       *\n",
      "*   0   *   0   *   0   *   6   *\n",
      "*       *       *       *       *\n",
      "*********************************\n",
      "*       *       *       *       *\n",
      "*   0   *   0   *   2   *   3   *\n",
      "*       *       *       *       *\n",
      "*********************************\n",
      "*       *       *       *       *\n",
      "*   3   *   0   *   1   *   6   *\n",
      "*       *       *       *       *\n",
      "*********************************\n",
      "*       *       *       *       *\n",
      "*   0   *   6   *   0   *   6   *\n",
      "*       *       *       *       *\n",
      "*********************************\n",
      "*********************************\n",
      "*       *       *       *       *\n",
      "*   0   *   0   *   0   *   6   *\n",
      "*       *       *       *       *\n",
      "*********************************\n",
      "*       *       *       *       *\n",
      "*   0   *   0   *   2   *   3   *\n",
      "*       *       *       *       *\n",
      "*********************************\n",
      "*       *       *       *       *\n",
      "*   3   *   0   *   1   *   12  *\n",
      "*       *       *       *       *\n",
      "*********************************\n",
      "*       *       *       *       *\n",
      "*   0   *   6   *   0   *   0   *\n",
      "*       *       *       *       *\n",
      "*********************************\n"
     ]
    }
   ],
   "source": [
    "medium_display(p)\n",
    "\n",
    "colum_move(p,3,1)\n",
    "\n",
    "medium_display(p)"
   ]
  },
  {
   "cell_type": "code",
   "execution_count": 19,
   "metadata": {},
   "outputs": [],
   "source": [
    "def lines_move(plateau,sens):\n",
    "    \"\"\"Cette fonction permet de déplacer toutes les lignes d'un plateau dans un sens donné\"\"\"\n",
    "    i=0\n",
    "    while i<4:\n",
    "        line_move(plateau,i,sens)\n",
    "        i+=1\n",
    "        "
   ]
  },
  {
   "cell_type": "code",
   "execution_count": 20,
   "metadata": {},
   "outputs": [],
   "source": [
    "p=init_play()\n",
    "set_value(p,1,1,3)\n",
    "set_value(p,1,2,2)\n",
    "set_value(p,0,3,2)\n",
    "set_value(p,2,0,3)\n",
    "set_value(p,2,2,1)\n",
    "set_value(p,1,3,1)\n",
    "set_value(p,2,1,2)\n",
    "set_value(p,3,1,1)\n",
    "set_value(p,2,3,3)"
   ]
  },
  {
   "cell_type": "code",
   "execution_count": 21,
   "metadata": {},
   "outputs": [
    {
     "name": "stdout",
     "output_type": "stream",
     "text": [
      "*********************************\n",
      "*       *       *       *       *\n",
      "*   0   *   0   *   0   *   2   *\n",
      "*       *       *       *       *\n",
      "*********************************\n",
      "*       *       *       *       *\n",
      "*   0   *   3   *   2   *   1   *\n",
      "*       *       *       *       *\n",
      "*********************************\n",
      "*       *       *       *       *\n",
      "*   3   *   2   *   1   *   3   *\n",
      "*       *       *       *       *\n",
      "*********************************\n",
      "*       *       *       *       *\n",
      "*   0   *   1   *   0   *   0   *\n",
      "*       *       *       *       *\n",
      "*********************************\n",
      "*********************************\n",
      "*       *       *       *       *\n",
      "*   0   *   0   *   0   *   2   *\n",
      "*       *       *       *       *\n",
      "*********************************\n",
      "*       *       *       *       *\n",
      "*   0   *   0   *   3   *   3   *\n",
      "*       *       *       *       *\n",
      "*********************************\n",
      "*       *       *       *       *\n",
      "*   0   *   3   *   3   *   3   *\n",
      "*       *       *       *       *\n",
      "*********************************\n",
      "*       *       *       *       *\n",
      "*   0   *   0   *   1   *   0   *\n",
      "*       *       *       *       *\n",
      "*********************************\n"
     ]
    }
   ],
   "source": [
    "medium_display(p)\n",
    "\n",
    "lines_move(p,0)\n",
    "\n",
    "medium_display(p)"
   ]
  },
  {
   "cell_type": "code",
   "execution_count": 22,
   "metadata": {},
   "outputs": [],
   "source": [
    "def colums_move(plateau,sens):\n",
    "    \"\"\"Permet de déplacer toutes les colonnes d'un plateau dans un sens donné\"\"\"\n",
    "    i=0\n",
    "    while i<4:\n",
    "        colum_move(plateau,i,sens)\n",
    "        i+=1"
   ]
  },
  {
   "cell_type": "code",
   "execution_count": 23,
   "metadata": {},
   "outputs": [],
   "source": [
    "p=init_play()\n",
    "set_value(p,1,1,3)\n",
    "set_value(p,1,2,2)\n",
    "set_value(p,0,3,2)\n",
    "set_value(p,2,0,3)\n",
    "set_value(p,2,2,1)\n",
    "set_value(p,1,3,1)\n",
    "set_value(p,2,1,2)\n",
    "set_value(p,3,1,1)\n",
    "set_value(p,2,3,3)"
   ]
  },
  {
   "cell_type": "code",
   "execution_count": 24,
   "metadata": {},
   "outputs": [
    {
     "name": "stdout",
     "output_type": "stream",
     "text": [
      "*********************************\n",
      "*       *       *       *       *\n",
      "*   0   *   0   *   0   *   2   *\n",
      "*       *       *       *       *\n",
      "*********************************\n",
      "*       *       *       *       *\n",
      "*   0   *   3   *   2   *   1   *\n",
      "*       *       *       *       *\n",
      "*********************************\n",
      "*       *       *       *       *\n",
      "*   3   *   2   *   1   *   3   *\n",
      "*       *       *       *       *\n",
      "*********************************\n",
      "*       *       *       *       *\n",
      "*   0   *   1   *   0   *   0   *\n",
      "*       *       *       *       *\n",
      "*********************************\n",
      "*********************************\n",
      "*       *       *       *       *\n",
      "*   0   *   3   *   2   *   3   *\n",
      "*       *       *       *       *\n",
      "*********************************\n",
      "*       *       *       *       *\n",
      "*   3   *   2   *   1   *   3   *\n",
      "*       *       *       *       *\n",
      "*********************************\n",
      "*       *       *       *       *\n",
      "*   0   *   1   *   0   *   0   *\n",
      "*       *       *       *       *\n",
      "*********************************\n",
      "*       *       *       *       *\n",
      "*   0   *   0   *   0   *   0   *\n",
      "*       *       *       *       *\n",
      "*********************************\n"
     ]
    }
   ],
   "source": [
    "medium_display(p)\n",
    "\n",
    "colums_move(p,1)\n",
    "\n",
    "medium_display(p)"
   ]
  },
  {
   "cell_type": "code",
   "execution_count": 43,
   "metadata": {},
   "outputs": [],
   "source": [
    "def play_move(plateau,sens):\n",
    "    \"\"\"Déplace les tuiles du plateau dans un sens donnée appliquant les règles du jeu Threes \n",
    "    b pour bas h pour haut g pour gauche d pour droite\"\"\"\n",
    "\n",
    "    if sens==\"g\":\n",
    "        lines_move(plateau,1)\n",
    "    elif sens=='d':\n",
    "        lines_move(plateau,0)\n",
    "    elif sens=='h':\n",
    "        colums_move(plateau,1)\n",
    "    else:\n",
    "        colums_move(plateau,0)"
   ]
  },
  {
   "cell_type": "code",
   "execution_count": 26,
   "metadata": {},
   "outputs": [],
   "source": [
    "p=init_play()\n",
    "set_value(p,1,1,3)\n",
    "set_value(p,1,2,2)\n",
    "set_value(p,0,3,2)\n",
    "set_value(p,2,0,3)\n",
    "set_value(p,2,2,1)\n",
    "set_value(p,1,3,1)\n",
    "set_value(p,2,1,2)\n",
    "set_value(p,3,1,1)\n",
    "set_value(p,2,3,3)\n"
   ]
  },
  {
   "cell_type": "code",
   "execution_count": 66,
   "metadata": {},
   "outputs": [
    {
     "name": "stdout",
     "output_type": "stream",
     "text": [
      "*********************************\n",
      "*       *       *       *       *\n",
      "*   12  *   6   *   3   *   6   *\n",
      "*       *       *       *       *\n",
      "*********************************\n",
      "*       *       *       *       *\n",
      "*   6   *   12  *   24  *   48  *\n",
      "*       *       *       *       *\n",
      "*********************************\n",
      "*       *       *       *       *\n",
      "*   0   *   0   *   0   *   0   *\n",
      "*       *       *       *       *\n",
      "*********************************\n",
      "*       *       *       *       *\n",
      "*   0   *   0   *   0   *   0   *\n",
      "*       *       *       *       *\n",
      "*********************************\n",
      "*********************************\n",
      "*       *       *       *       *\n",
      "*   12  *   6   *   3   *   6   *\n",
      "*       *       *       *       *\n",
      "*********************************\n",
      "*       *       *       *       *\n",
      "*   6   *   12  *   24  *   48  *\n",
      "*       *       *       *       *\n",
      "*********************************\n",
      "*       *       *       *       *\n",
      "*   0   *   0   *   0   *   0   *\n",
      "*       *       *       *       *\n",
      "*********************************\n",
      "*       *       *       *       *\n",
      "*   0   *   0   *   0   *   0   *\n",
      "*       *       *       *       *\n",
      "*********************************\n"
     ]
    }
   ],
   "source": [
    "medium_display(p)\n",
    "sens='d'\n",
    "set_value(p,1,0,6)\n",
    "play_move(p,sens)\n",
    "\n",
    "medium_display(p)"
   ]
  },
  {
   "cell_type": "code",
   "execution_count": 80,
   "metadata": {},
   "outputs": [
    {
     "ename": "TypeError",
     "evalue": "tuple indices must be integers or slices, not str",
     "output_type": "error",
     "traceback": [
      "\u001b[1;31m---------------------------------------------------------------------------\u001b[0m",
      "\u001b[1;31mTypeError\u001b[0m                                 Traceback (most recent call last)",
      "\u001b[1;32m<ipython-input-80-a16ad4748620>\u001b[0m in \u001b[0;36m<module>\u001b[1;34m\u001b[0m\n\u001b[0;32m      1\u001b[0m \u001b[0mpartie\u001b[0m\u001b[1;33m=\u001b[0m\u001b[0mcreate_new_play\u001b[0m\u001b[1;33m(\u001b[0m\u001b[1;36m1\u001b[0m\u001b[1;33m)\u001b[0m\u001b[1;33m\u001b[0m\u001b[1;33m\u001b[0m\u001b[0m\n\u001b[1;32m----> 2\u001b[1;33m \u001b[0mcycle_play\u001b[0m\u001b[1;33m(\u001b[0m\u001b[0mpartie\u001b[0m\u001b[1;33m)\u001b[0m\u001b[1;33m\u001b[0m\u001b[1;33m\u001b[0m\u001b[0m\n\u001b[0m",
      "\u001b[1;32m~\\OneDrive\\Documents\\IUT Informatique\\Projet tutoré\\jeu_threes\\life_cycle\\playcycle.py\u001b[0m in \u001b[0;36mcycle_play\u001b[1;34m(partie)\u001b[0m\n\u001b[0;32m     17\u001b[0m         \u001b[1;32mreturn\u001b[0m \u001b[1;32mFalse\u001b[0m\u001b[1;33m\u001b[0m\u001b[1;33m\u001b[0m\u001b[0m\n\u001b[0;32m     18\u001b[0m     \u001b[1;34m\"\"\"Permet de jouer à Threes, prend en paramètre une partie ou None\"\"\"\u001b[0m\u001b[1;33m\u001b[0m\u001b[1;33m\u001b[0m\u001b[0m\n\u001b[1;32m---> 19\u001b[1;33m     \u001b[0mp\u001b[0m\u001b[1;33m=\u001b[0m\u001b[0mpartie\u001b[0m\u001b[1;33m[\u001b[0m\u001b[1;36m0\u001b[0m\u001b[1;33m]\u001b[0m\u001b[1;33m\u001b[0m\u001b[1;33m\u001b[0m\u001b[0m\n\u001b[0m\u001b[0;32m     20\u001b[0m     \u001b[0mscore\u001b[0m\u001b[1;33m=\u001b[0m\u001b[0mpartie\u001b[0m\u001b[1;33m[\u001b[0m\u001b[1;34m'score'\u001b[0m\u001b[1;33m]\u001b[0m\u001b[1;33m\u001b[0m\u001b[1;33m\u001b[0m\u001b[0m\n\u001b[0;32m     21\u001b[0m     \u001b[0mnext_tile\u001b[0m\u001b[1;33m=\u001b[0m\u001b[0mpartie\u001b[0m\u001b[1;33m[\u001b[0m\u001b[1;34m'next_tile'\u001b[0m\u001b[1;33m]\u001b[0m\u001b[1;33m\u001b[0m\u001b[1;33m\u001b[0m\u001b[0m\n",
      "\u001b[1;31mTypeError\u001b[0m: tuple indices must be integers or slices, not str"
     ]
    }
   ],
   "source": [
    "partie=create_new_play(1)\n",
    "cycle_play(partie)"
   ]
  }
 ],
 "metadata": {
  "kernelspec": {
   "display_name": "Python 3",
   "language": "python",
   "name": "python3"
  },
  "language_info": {
   "codemirror_mode": {
    "name": "ipython",
    "version": 3
   },
   "file_extension": ".py",
   "mimetype": "text/x-python",
   "name": "python",
   "nbconvert_exporter": "python",
   "pygments_lexer": "ipython3",
   "version": "3.7.4"
  }
 },
 "nbformat": 4,
 "nbformat_minor": 2
}
