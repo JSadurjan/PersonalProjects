{
 "cells": [
  {
   "cell_type": "code",
   "execution_count": 15,
   "metadata": {},
   "outputs": [],
   "source": [
    "import sys\n",
    "sys.path.append(\"../tiles\")\n",
    "sys.path.append(\"../ui\")\n",
    "sys.path.append(\"..life-cycle\")\n",
    "\n",
    "from tiles_moves import *\n",
    "from tiles_acces import *\n",
    "from play_display import *"
   ]
  },
  {
   "cell_type": "code",
   "execution_count": 7,
   "metadata": {},
   "outputs": [],
   "source": [
    "def init_play():\n",
    "    \"\"\"retourne un plateau correspondant à une nouvelle partie\n",
    "    Une nouvelle partie est un dictionnaire aec les clefs et valeurs suivatnes :\n",
    "    - 'n' vaut 4\n",
    "    - 'nb_cases_libres' vaut 16 au départ\n",
    "    - tiles est un tableau de 4*4 caases initialisées à 0\"\"\"\n",
    "    \n",
    "    \n",
    "    tab=[]\n",
    "    i=0\n",
    "    while i<16:\n",
    "        tab.append(0)\n",
    "        i+=1\n",
    "    \n",
    "    dico={}\n",
    "    \n",
    "    dico['n']=4\n",
    "    dico['nb_cases_libres']=16\n",
    "    dico['tiles']=tab\n",
    "    \n",
    "    return dico\n",
    "\n",
    "\n"
   ]
  },
  {
   "cell_type": "code",
   "execution_count": 8,
   "metadata": {},
   "outputs": [
    {
     "name": "stdout",
     "output_type": "stream",
     "text": [
      "test de la fonction init_play : ok\n"
     ]
    }
   ],
   "source": [
    "def test_init_play():\n",
    "    \"\"\"Cette fonction vérifie si la fonction init_play est valide\"\"\"\n",
    "    \n",
    "    test=init_play()\n",
    "    \n",
    "    assert test['n']==4, 'n doit valoir 4'\n",
    "    assert test['nb_cases_libres']==16, 'nb_cases_libres doit valoir 16'\n",
    "    assert test['tiles']== [0,0,0,0,0,0,0,0,0,0,0,0,0,0,0,0], 'tiles doit être un tableau de 16 valeurs initlialisé à 0'\n",
    "    \n",
    "    print('test de la fonction init_play : ok')\n",
    "    \n",
    "test_init_play()"
   ]
  },
  {
   "cell_type": "code",
   "execution_count": 9,
   "metadata": {},
   "outputs": [],
   "source": [
    "def is_game_over(plateau):\n",
    "    \"\"\"Retourne True si la partie est teriminée, False sinon\"\"\"\n",
    "    \n",
    "    if not 0 in plateau['tiles']:\n",
    "        return True\n",
    "    else:\n",
    "        return False\n",
    "    "
   ]
  },
  {
   "cell_type": "code",
   "execution_count": 10,
   "metadata": {},
   "outputs": [
    {
     "name": "stdout",
     "output_type": "stream",
     "text": [
      "Test del a fonction is_game_over : ok\n"
     ]
    }
   ],
   "source": [
    "def test_is_game_over():\n",
    "    \"\"\"Vérifie si la fonction is_game_over est valide\"\"\"\n",
    "    p=init_play()\n",
    "    \n",
    "    assert not is_game_over(p)\n",
    "    \n",
    "    p['tiles']=[1,2,3,12,12,3,12,6,2,3,6,2,3,1,1,3]\n",
    "    \n",
    "    assert is_game_over(p)\n",
    "    \n",
    "    print(\"Test del a fonction is_game_over : ok\")\n",
    "    \n",
    "test_is_game_over()"
   ]
  },
  {
   "cell_type": "code",
   "execution_count": 11,
   "metadata": {},
   "outputs": [],
   "source": [
    "def get_score(plateau):\n",
    "    \"\"\"Retourne le score du plateau\"\"\"\n",
    "    \n",
    "    i=0\n",
    "    somme=0\n",
    "    while i<len(plateau['tiles']):\n",
    "        somme+=plateau['tiles'][i]\n",
    "        i+=1\n",
    "    return somme\n",
    "    \n",
    "    "
   ]
  },
  {
   "cell_type": "code",
   "execution_count": 12,
   "metadata": {},
   "outputs": [
    {
     "name": "stdout",
     "output_type": "stream",
     "text": [
      "Test de la fonction get_score : ok\n"
     ]
    }
   ],
   "source": [
    "def test_get_score():\n",
    "    \"\"\"Vérifie si la fonction get_score est valide\"\"\"\n",
    "    p=init_play()\n",
    "    assert get_score(p)==0\n",
    "    p['tiles']=[1,2,3,12,12,3,12,6,2,3,6,2,3,1,1,3]\n",
    "    assert get_score(p)==72\n",
    "    \n",
    "    \n",
    "    print('Test de la fonction get_score : ok')\n",
    "\n",
    "test_get_score()"
   ]
  },
  {
   "cell_type": "code",
   "execution_count": 13,
   "metadata": {},
   "outputs": [],
   "source": [
    "def create_new_play(n):\n",
    "    \"\"\"Créer et retourne une nouvelle partie\"\"\"\n",
    "    p=init_play()\n",
    "    initialisation=get_next_alea_tiles(p,'init')\n",
    "    put_next_tiles(p,initialisation)\n",
    "    get_empty_room(p)\n",
    "    score=get_score(p)\n",
    "    next_tile=get_next_alea_tiles(p,'encours')\n",
    "    partie={}\n",
    "    partie['plateau']=p\n",
    "    partie['next_tile']=next_tile\n",
    "    partie['score']=score\n",
    "    \n",
    "    return partie"
   ]
  },
  {
   "cell_type": "code",
   "execution_count": 14,
   "metadata": {},
   "outputs": [
    {
     "name": "stdout",
     "output_type": "stream",
     "text": [
      "{'plateau': {'n': 4, 'nb_cases_libres': 16, 'tiles': [0, 0, 0, 0, 0, 0, 2, 1, 0, 0, 0, 0, 0, 0, 0, 0], 'nb_cases_libre': 14}, 'next_tile': {'mode': 'encours', 0: {'val': 1, 'lig': 1, 'col': 2}, 'check': True}, 'score': 3}\n"
     ]
    }
   ],
   "source": [
    "partie1=create_new_play(1)\n",
    "print (partie1)"
   ]
  }
 ],
 "metadata": {
  "kernelspec": {
   "display_name": "Python 3",
   "language": "python",
   "name": "python3"
  },
  "language_info": {
   "codemirror_mode": {
    "name": "ipython",
    "version": 3
   },
   "file_extension": ".py",
   "mimetype": "text/x-python",
   "name": "python",
   "nbconvert_exporter": "python",
   "pygments_lexer": "ipython3",
   "version": "3.7.4"
  }
 },
 "nbformat": 4,
 "nbformat_minor": 2
}
