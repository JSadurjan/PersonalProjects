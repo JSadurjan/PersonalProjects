{
 "cells": [
  {
   "cell_type": "code",
   "execution_count": 15,
   "metadata": {},
   "outputs": [
    {
     "name": "stdout",
     "output_type": "stream",
     "text": [
      "test de la fonction get_value : ok\n",
      "test de la fonction init_play : ok\n",
      "Test del a fonction is_game_over : ok\n"
     ]
    }
   ],
   "source": [
    "import sys\n",
    "sys.path.append(\"../game\")\n",
    "sys.path.append(\"../tiles\")\n",
    "sys.path.append(\"..life-cycle\")\n",
    "from play import *\n",
    "from tiles_acces import *\n",
    "from tiles_moves import *\n",
    "from string import *"
   ]
  },
  {
   "cell_type": "code",
   "execution_count": 16,
   "metadata": {},
   "outputs": [
    {
     "name": "stdout",
     "output_type": "stream",
     "text": [
      "0 0 0 0 \n",
      "0 0 0 0 \n",
      "0 0 0 0 \n",
      "0 0 0 0 \n"
     ]
    }
   ],
   "source": [
    "def simple_display(plateau):\n",
    "    \"\"\"Affichage simplifié\"\"\"\n",
    "    line=\"\"\n",
    "    i=0\n",
    "    while i<len(plateau['tiles']):\n",
    "        line+=(str(plateau['tiles'][i])+\" \")\n",
    "        if i%4==3:\n",
    "            print(line)\n",
    "            line=\"\"\n",
    "            \n",
    "        i+=1\n",
    "        \n",
    "        \n",
    "p=init_play()\n",
    "\n",
    "simple_display(p)"
   ]
  },
  {
   "cell_type": "code",
   "execution_count": 88,
   "metadata": {},
   "outputs": [
    {
     "name": "stdout",
     "output_type": "stream",
     "text": [
      "*********************************\n",
      "*       *       *       *       *\n",
      "*   0   *   0   *   0   *   0   *\n",
      "*       *       *       *       *\n",
      "*********************************\n",
      "*       *       *       *       *\n",
      "*   0   *   0   *   0   *   0   *\n",
      "*       *       *       *       *\n",
      "*********************************\n",
      "*       *       *       *       *\n",
      "*   0   *   0   *   0   *   0   *\n",
      "*       *       *       *       *\n",
      "*********************************\n",
      "*       *       *       *       *\n",
      "*   0   *   0   *   0   *   0   *\n",
      "*       *       *       *       *\n",
      "*********************************\n"
     ]
    }
   ],
   "source": [
    "def medium_display(plateau):\n",
    "    \"\"\"Affichage du plateau avec délimitaions textuelles des cases\"\"\"\n",
    "    \n",
    "    \n",
    "    borderline=\"\"\n",
    "    i=0\n",
    "    while i<33:\n",
    "        borderline+=\"*\"\n",
    "        i+=1\n",
    "    \n",
    "    borderSec=\"\"\n",
    "    i=0\n",
    "    while i<33:\n",
    "        if i%8==0:\n",
    "            borderSec+=\"*\"\n",
    "        else:\n",
    "            borderSec+=\" \"\n",
    "        i+=1\n",
    "    \n",
    "    i=0\n",
    "    line=\"\"\n",
    "    while i<len(plateau['tiles']):\n",
    "        line+=(\"*\"+str(plateau['tiles'][i]).center(7))\n",
    "        if i%4==3:\n",
    "            line+=\"*\"\n",
    "            print(borderline)\n",
    "            print(borderSec)\n",
    "            print(line)\n",
    "            print(borderSec)\n",
    "            line=\"\"\n",
    "        i+=1\n",
    "    print(borderline)\n",
    "\n",
    "    \n",
    "\n",
    "    \n",
    "medium_display(p)"
   ]
  },
  {
   "cell_type": "code",
   "execution_count": 5,
   "metadata": {},
   "outputs": [],
   "source": [
    "from termcolor import *"
   ]
  },
  {
   "cell_type": "code",
   "execution_count": 10,
   "metadata": {},
   "outputs": [
    {
     "name": "stdout",
     "output_type": "stream",
     "text": [
      "\u001b[5m\u001b[7m\u001b[31mHello, World!\u001b[0m\n",
      "\u001b[41m\u001b[32mHello, World!\u001b[0m\n",
      "\u001b[46m\u001b[31mHello, World!\u001b[0m\n",
      "\u001b[46m\u001b[31mHello, Universe!\u001b[0m\n",
      "\u001b[35m0\u001b[0m \u001b[35m1\u001b[0m \u001b[35m2\u001b[0m \u001b[35m3\u001b[0m \u001b[35m4\u001b[0m \u001b[35m5\u001b[0m \u001b[35m6\u001b[0m \u001b[35m7\u001b[0m \u001b[35m8\u001b[0m \u001b[35m9\u001b[0m "
     ]
    },
    {
     "name": "stderr",
     "output_type": "stream",
     "text": [
      "\u001b[1m\u001b[31mAttention!\u001b[0m\n"
     ]
    }
   ],
   "source": [
    "text = colored('Hello, World!', 'red', attrs=['reverse', 'blink'])\n",
    "print(text)\n",
    "cprint('Hello, World!', 'green', 'on_red')\n",
    "\n",
    "print_red_on_cyan = lambda x: cprint(x, 'red', 'on_cyan')\n",
    "print_red_on_cyan('Hello, World!')\n",
    "print_red_on_cyan('Hello, Universe!')\n",
    "\n",
    "for i in range(10):\n",
    "    cprint(i, 'magenta', end=' ')\n",
    "\n",
    "cprint(\"Attention!\", 'red', attrs=['bold'], file=sys.stderr)"
   ]
  },
  {
   "cell_type": "code",
   "execution_count": 76,
   "metadata": {},
   "outputs": [
    {
     "name": "stdout",
     "output_type": "stream",
     "text": [
      "\u001b[8m\u001b[5m\u001b[7m\u001b[30m0\u001b[0m \u001b[8m\u001b[5m\u001b[7m\u001b[30m0\u001b[0m \u001b[8m\u001b[5m\u001b[7m\u001b[30m0\u001b[0m \u001b[8m\u001b[5m\u001b[7m\u001b[30m0\u001b[0m \n",
      "\u001b[8m\u001b[5m\u001b[7m\u001b[30m0\u001b[0m \u001b[8m\u001b[5m\u001b[7m\u001b[30m0\u001b[0m \u001b[8m\u001b[5m\u001b[7m\u001b[30m0\u001b[0m \u001b[8m\u001b[5m\u001b[7m\u001b[30m0\u001b[0m \n",
      "\u001b[8m\u001b[5m\u001b[7m\u001b[30m0\u001b[0m \u001b[8m\u001b[5m\u001b[7m\u001b[30m0\u001b[0m \u001b[8m\u001b[5m\u001b[7m\u001b[30m0\u001b[0m \u001b[8m\u001b[5m\u001b[7m\u001b[30m0\u001b[0m \n",
      "\u001b[8m\u001b[5m\u001b[7m\u001b[30m0\u001b[0m \u001b[8m\u001b[5m\u001b[7m\u001b[30m0\u001b[0m \u001b[8m\u001b[5m\u001b[7m\u001b[30m0\u001b[0m \u001b[8m\u001b[5m\u001b[7m\u001b[30m0\u001b[0m \n"
     ]
    }
   ],
   "source": [
    "def full_display(plateau):\n",
    "    \"\"\"Affichage à l'aide de python termcolor\"\"\"\n",
    "    \n",
    "    i=0\n",
    "    line=''\n",
    "    feeding_line=''\n",
    "    feeding=\"       \\n\"\n",
    "    while i<len(plateau['tiles']):\n",
    "        text=str(plateau['tiles'][i])\n",
    "        if plateau['tiles'][i]==0:\n",
    "            \n",
    "            case=colored(text,'grey',attrs=['reverse','blink','concealed'])\n",
    "        elif plateau['tiles'][i]==1:\n",
    "            case=colored(feeding+text,'cyan',attrs=['reverse','blink'])\n",
    "        elif plateau['tiles'][i]==2:\n",
    "            case=colored(text,'blue',attrs=['reverse','blink'])\n",
    "        else:\n",
    "            case=colored(text,'green',attrs=['reverse','blink'])\n",
    "        feeding_line+=feeding+' '  \n",
    "        line+=case+' '\n",
    "        if i%4==3:\n",
    "            \n",
    "            print(line)\n",
    "            line=''\n",
    "            feeding_line=''\n",
    "        i+=1\n",
    "full_display(p)"
   ]
  }
 ],
 "metadata": {
  "kernelspec": {
   "display_name": "Python 3",
   "language": "python",
   "name": "python3"
  },
  "language_info": {
   "codemirror_mode": {
    "name": "ipython",
    "version": 3
   },
   "file_extension": ".py",
   "mimetype": "text/x-python",
   "name": "python",
   "nbconvert_exporter": "python",
   "pygments_lexer": "ipython3",
   "version": "3.7.4"
  }
 },
 "nbformat": 4,
 "nbformat_minor": 2
}
