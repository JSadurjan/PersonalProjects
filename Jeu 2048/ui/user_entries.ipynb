{
 "cells": [
  {
   "cell_type": "code",
   "execution_count": 1,
   "metadata": {},
   "outputs": [],
   "source": [
    "def get_user_move():\n",
    "    \"\"\"Saisie et retounre le coup joué par le joueur parmi les choix\"\"\"\n",
    "    move=-1\n",
    "    while move!='g' and move!='d' and move !='h' and move!='b' and move!='m' :\n",
    "        move=str(input(\"Choisissez le coup à jouer\\n\"))\n",
    "        move=move.lower()\n",
    "    return move"
   ]
  },
  {
   "cell_type": "code",
   "execution_count": 7,
   "metadata": {},
   "outputs": [],
   "source": [
    "def get_user_menu(partie):\n",
    "    \"\"\"Menu principal pour le joueur:\n",
    "    N pour nouvelle partie\n",
    "    L pour charger une partie\n",
    "    S pour sauvegarder la partie en cours\n",
    "    C pour charger la partie en cours\n",
    "    Q pour quitter le jeu\"\"\"\n",
    "    instruc=\"\"\n",
    "    if partie is None:\n",
    "        while instruc!=\"N\" and instruc!=\"L\" and instruc!='Q':\n",
    "            instruc=input(\"Que voulez-vous faire ?\\nN : New Game\\nL : Load a Save\\nQ : Quit\")\n",
    "            instruc=instruc.upper()\n",
    "    else:      \n",
    "        while instruc!=\"N\" and instruc!=\"L\" and instruc!=\"S\" and instruc!=\"S\" and instruc!=\"C\" and instruc!=\"Q\":\n",
    "            instruc=input(\"Que voulez-vous faire ?\\nN : New Game\\nL : Load a Save\\nS : Save\\nC : Resume\\nQ : Quit\\n\")\n",
    "            instruc=instruc.upper()\n",
    "    return instruc"
   ]
  },
  {
   "cell_type": "code",
   "execution_count": 8,
   "metadata": {},
   "outputs": [
    {
     "name": "stdout",
     "output_type": "stream",
     "text": [
      "Que voulez-vous faire ?\n",
      "N : New Game\n",
      "L : Load a Save\n",
      "Q : QuitQ\n"
     ]
    }
   ],
   "source": []
  }
 ],
 "metadata": {
  "kernelspec": {
   "display_name": "Python 3",
   "language": "python",
   "name": "python3"
  },
  "language_info": {
   "codemirror_mode": {
    "name": "ipython",
    "version": 3
   },
   "file_extension": ".py",
   "mimetype": "text/x-python",
   "name": "python",
   "nbconvert_exporter": "python",
   "pygments_lexer": "ipython3",
   "version": "3.7.4"
  }
 },
 "nbformat": 4,
 "nbformat_minor": 2
}
